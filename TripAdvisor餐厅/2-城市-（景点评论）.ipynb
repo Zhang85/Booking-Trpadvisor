{
 "cells": [
  {
   "cell_type": "code",
   "execution_count": 1,
   "metadata": {},
   "outputs": [],
   "source": [
    "import requests\n",
    "from bs4 import BeautifulSoup\n",
    "import time\n",
    "import random\n",
    "import pandas as pd"
   ]
  },
  {
   "cell_type": "code",
   "execution_count": 2,
   "metadata": {},
   "outputs": [],
   "source": [
    "import sys\n",
    "import os"
   ]
  },
  {
   "cell_type": "code",
   "execution_count": 3,
   "metadata": {},
   "outputs": [],
   "source": [
    "from selenium import webdriver"
   ]
  },
  {
   "cell_type": "code",
   "execution_count": 6,
   "metadata": {},
   "outputs": [],
   "source": [
    "from collections import defaultdict"
   ]
  },
  {
   "cell_type": "code",
   "execution_count": 7,
   "metadata": {},
   "outputs": [],
   "source": [
    "def flushprint(www):\n",
    "    sys.stdout.write('\\r')\n",
    "    sys.stdout.write('%s' %www)\n",
    "    sys.stdout.flush()"
   ]
  },
  {
   "cell_type": "code",
   "execution_count": 8,
   "metadata": {},
   "outputs": [],
   "source": [
    "food_score=pd.read_excel('beijing_score.xls')"
   ]
  },
  {
   "cell_type": "code",
   "execution_count": 11,
   "metadata": {},
   "outputs": [],
   "source": [
    "review_content=[]"
   ]
  },
  {
   "cell_type": "code",
   "execution_count": null,
   "metadata": {},
   "outputs": [],
   "source": [
    "for index in range(0,6631):\n",
    "    review_content_=[]\n",
    "    url='https://www.tripadvisor.cn'+food_score.iloc[index]['food-link']\n",
    "    food_name=food_score.iloc[index]['food-name']\n",
    "    food_link=food_score.iloc[index]['food-link']\n",
    "    score=food_score.iloc[index]['food-score']\n",
    "    review_num=food_score.iloc[index]['review-num']\n",
    "    review=[food_name,food_link,score,review_num]\n",
    "    try:\n",
    "        tt = random.random()\n",
    "        flushprint(str(index)+':'+str(url)+':sleeping'+str(tt)+'seconds')\n",
    "        time.sleep(tt)\n",
    "        \n",
    "        html=requests.get(url)\n",
    "        html.encoding='utf-8'\n",
    "        content=html.content\n",
    "        soup=BeautifulSoup(content,'html.parser')\n",
    "        try:\n",
    "            if soup.select('#REVIEWS #taplc_detail_filters_rr_resp_0 .is-shown-at-tablet .ui_columns .prw_filters_detail_language .content .is-shown-at-tablet .taLnk'):\n",
    "                browser = webdriver.Chrome()\n",
    "                browser.get(url)\n",
    "                browser.find_element_by_xpath('//*[@id=\"taplc_detail_filters_rr_resp_0\"]/div/div[1]/div/div[2]/div[4]/div/div[2]/div/div[5]').click()\n",
    "\n",
    "                source=browser.page_source\n",
    "                soup2=BeautifulSoup(source, 'html.parser')\n",
    "                for item in soup2.select('.prw_filters_detail_language .body_text .more-options .item .label'):\n",
    "                    review_content_.append(item.text)\n",
    "                review.append(review_content_)\n",
    "                review_content.append(review)\n",
    "                browser.close()\n",
    "            else:\n",
    "                for item in soup.select('#REVIEWS #taplc_detail_filters_rr_resp_0 .is-shown-at-tablet .ui_columns .prw_filters_detail_language .content .choices .item .label'):\n",
    "                    review_content_.append(item.text)\n",
    "                review.append(review_content_)\n",
    "                review_content.append(review)\n",
    "        except Exception as w:\n",
    "            print(index,url,w)\n",
    "            review_content_='NaN'\n",
    "            review.append(review_content_)\n",
    "            review_content.append(review)\n",
    "    except Exception as e:\n",
    "            print(index,url,e)\n",
    "            continue"
   ]
  },
  {
   "cell_type": "code",
   "execution_count": 14,
   "metadata": {},
   "outputs": [],
   "source": [
    "df=pd.DataFrame(review_content,columns=['food-name','food-link','score','review-num','review-content'])"
   ]
  },
  {
   "cell_type": "code",
   "execution_count": 15,
   "metadata": {},
   "outputs": [],
   "source": [
    "df.to_excel('beijing_review.xls')"
   ]
  }
 ],
 "metadata": {
  "kernelspec": {
   "display_name": "Python 3",
   "language": "python",
   "name": "python3"
  },
  "language_info": {
   "codemirror_mode": {
    "name": "ipython",
    "version": 3
   },
   "file_extension": ".py",
   "mimetype": "text/x-python",
   "name": "python",
   "nbconvert_exporter": "python",
   "pygments_lexer": "ipython3",
   "version": "3.7.0"
  }
 },
 "nbformat": 4,
 "nbformat_minor": 2
}
