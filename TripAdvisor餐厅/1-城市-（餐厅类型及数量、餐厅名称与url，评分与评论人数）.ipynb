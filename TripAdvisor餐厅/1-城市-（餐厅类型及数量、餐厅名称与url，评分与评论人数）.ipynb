{
 "cells": [
  {
   "cell_type": "code",
   "execution_count": 1,
   "metadata": {},
   "outputs": [],
   "source": [
    "import requests\n",
    "from bs4 import BeautifulSoup\n",
    "import time\n",
    "import random\n",
    "import pandas as pd"
   ]
  },
  {
   "cell_type": "code",
   "execution_count": 2,
   "metadata": {},
   "outputs": [],
   "source": [
    "import sys\n",
    "import os"
   ]
  },
  {
   "cell_type": "code",
   "execution_count": 3,
   "metadata": {},
   "outputs": [],
   "source": [
    "def flushprint(www):\n",
    "    sys.stdout.write('\\r')\n",
    "    sys.stdout.write('%s' %www)\n",
    "    sys.stdout.flush()"
   ]
  },
  {
   "cell_type": "markdown",
   "metadata": {},
   "source": [
    "### 城市餐厅类型及数量"
   ]
  },
  {
   "cell_type": "code",
   "execution_count": 4,
   "metadata": {},
   "outputs": [],
   "source": [
    "food_url='https://www.tripadvisor.cn/Restaurants-g294212-Beijing.html'"
   ]
  },
  {
   "cell_type": "code",
   "execution_count": 5,
   "metadata": {},
   "outputs": [],
   "source": [
    "html=requests.get(food_url)\n",
    "html.encoding='utf-8'\n",
    "content=html.text\n",
    "soup=BeautifulSoup(content,'html.parser')"
   ]
  },
  {
   "cell_type": "code",
   "execution_count": 6,
   "metadata": {},
   "outputs": [],
   "source": [
    "page_url=[]\n",
    "for page in soup.select('.pageNumbers a'):\n",
    "    page_url.append(page['href'])"
   ]
  },
  {
   "cell_type": "code",
   "execution_count": 8,
   "metadata": {},
   "outputs": [],
   "source": [
    "food=[]"
   ]
  },
  {
   "cell_type": "code",
   "execution_count": 9,
   "metadata": {},
   "outputs": [
    {
     "name": "stdout",
     "output_type": "stream",
     "text": [
      "12300:https://www.tripadvisor.cn/Restaurants-g294212-oa12300-Beijing.html#EATERY_LIST_CONTENTS:sleeping0.42205268271460694secondss"
     ]
    }
   ],
   "source": [
    "# 最后一页的offset=12330，一页30条数据，模拟翻页爬取数据\n",
    "for page in range(0,12330,30):\n",
    "    try:        \n",
    "        if page==0: \n",
    "            url=food_url\n",
    "            tt = random.random()\n",
    "            flushprint(str(page)+':'+str(url)+':sleeping'+str(tt)+'seconds')\n",
    "            time.sleep(tt)\n",
    "            for item in soup.select('.restaurants-list-ListCell__infoWrapper--3agHz .restaurants-list-ListCell__nameBlock--1hL7F a'):\n",
    "                food_name=item.text\n",
    "                food_link=item['href']\n",
    "                food_=[food_name,food_link]\n",
    "                food.append(food_)\n",
    "        else:\n",
    "            url='https://www.tripadvisor.cn/Restaurants-g294212-oa'+str(page)+'-Beijing.html#EATERY_LIST_CONTENTS'            \n",
    "            tt = random.random()\n",
    "            flushprint(str(page)+':'+str(url)+':sleeping'+str(tt)+'seconds')\n",
    "            time.sleep(tt)\n",
    "            \n",
    "            html=requests.get(url)\n",
    "            html.encoding='utf-8'\n",
    "            content=html.text\n",
    "            soup=BeautifulSoup(content,'html.parser')\n",
    "                        \n",
    "            for item in soup.select('.restaurants-list-ListCell__infoWrapper--3agHz .restaurants-list-ListCell__nameBlock--1hL7F a'):\n",
    "                food_name=item.text\n",
    "                food_link=item['href']\n",
    "                food_=[food_name,food_link]\n",
    "                food.append(food_)\n",
    "    except Exception as e:\n",
    "        print(page,url,e)"
   ]
  },
  {
   "cell_type": "code",
   "execution_count": 11,
   "metadata": {},
   "outputs": [],
   "source": [
    "df1=pd.DataFrame(food,columns=['food-name','food-link'])"
   ]
  },
  {
   "cell_type": "code",
   "execution_count": 12,
   "metadata": {},
   "outputs": [],
   "source": [
    "df1.to_excel('beijing_food.xls')"
   ]
  },
  {
   "cell_type": "markdown",
   "metadata": {},
   "source": [
    "### 城市具体餐厅评分数据"
   ]
  },
  {
   "cell_type": "code",
   "execution_count": 13,
   "metadata": {},
   "outputs": [],
   "source": [
    "food=pd.read_excel('beijing_food.xls')"
   ]
  },
  {
   "cell_type": "code",
   "execution_count": 14,
   "metadata": {},
   "outputs": [],
   "source": [
    "food_score=[]"
   ]
  },
  {
   "cell_type": "code",
   "execution_count": null,
   "metadata": {},
   "outputs": [],
   "source": [
    "for index in range(0,12303):\n",
    "    food_name=food.iloc[index]['food-name']\n",
    "    food_link=food.iloc[index]['food-link']\n",
    "    url='https://www.tripadvisor.cn'+food.iloc[index]['food-link']\n",
    "    try:\n",
    "        tt = random.random()\n",
    "        flushprint(str(index)+':'+str(url)+':sleeping'+str(tt)+'seconds')\n",
    "        time.sleep(tt)\n",
    "        \n",
    "        html=requests.get(url)\n",
    "        html.encoding='utf-8'\n",
    "        content=html.text\n",
    "        soup=BeautifulSoup(content,'html.parser')\n",
    "        \n",
    "        if soup.select('#taplc_resp_rr_top_info_rr_resp_0 .ratingContainer .ui_bubble_rating'):\n",
    "            score=soup.find('span',class_='ui_bubble_rating')['class'][1].replace('bubble_','')\n",
    "        else:\n",
    "            score=0\n",
    "            \n",
    "        if soup.select('#taplc_resp_rr_top_info_rr_resp_0 .ratingContainer .reviewCount'):\n",
    "            review_num=soup.find('span',class_='reviewCount').text\n",
    "        else:\n",
    "            review_num=0\n",
    "        food_score_=[food_name,food_link,score,review_num]\n",
    "        food_score.append(food_score_)\n",
    "        \n",
    "    except Exception as e:\n",
    "        print(index,url,e)\n",
    "        continue"
   ]
  },
  {
   "cell_type": "code",
   "execution_count": 25,
   "metadata": {},
   "outputs": [],
   "source": [
    "df2=pd.DataFrame(food_score,columns=['food-name','food-link','food-score','review-num'])"
   ]
  },
  {
   "cell_type": "code",
   "execution_count": 26,
   "metadata": {},
   "outputs": [],
   "source": [
    "df2.to_excel('beijing_score.xls')"
   ]
  },
  {
   "cell_type": "code",
   "execution_count": null,
   "metadata": {},
   "outputs": [],
   "source": []
  }
 ],
 "metadata": {
  "kernelspec": {
   "display_name": "Python 3",
   "language": "python",
   "name": "python3"
  },
  "language_info": {
   "codemirror_mode": {
    "name": "ipython",
    "version": 3
   },
   "file_extension": ".py",
   "mimetype": "text/x-python",
   "name": "python",
   "nbconvert_exporter": "python",
   "pygments_lexer": "ipython3",
   "version": "3.7.0"
  }
 },
 "nbformat": 4,
 "nbformat_minor": 2
}
