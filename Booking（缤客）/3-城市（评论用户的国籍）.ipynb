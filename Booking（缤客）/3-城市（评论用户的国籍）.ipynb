{
 "cells": [
  {
   "cell_type": "code",
   "execution_count": 1,
   "metadata": {},
   "outputs": [],
   "source": [
    "import requests\n",
    "from bs4 import BeautifulSoup\n",
    "import time\n",
    "import random\n",
    "import pandas as pd"
   ]
  },
  {
   "cell_type": "code",
   "execution_count": 2,
   "metadata": {},
   "outputs": [],
   "source": [
    "import sys\n",
    "import os"
   ]
  },
  {
   "cell_type": "code",
   "execution_count": 3,
   "metadata": {},
   "outputs": [],
   "source": [
    "def flushprint(www):\n",
    "    sys.stdout.write('\\r')\n",
    "    sys.stdout.write('%s' %www)\n",
    "    sys.stdout.flush()"
   ]
  },
  {
   "cell_type": "code",
   "execution_count": 4,
   "metadata": {},
   "outputs": [],
   "source": [
    "# 2-城市-酒店详情页面（评分、评分等级、评论人数）.ipynb 文件保存的数据\n",
    "hotel_list=pd.read_excel('beijing_score.xls',index_col=0)"
   ]
  },
  {
   "cell_type": "markdown",
   "metadata": {},
   "source": [
    "### 拼接并存储酒店详情页面的url"
   ]
  },
  {
   "cell_type": "code",
   "execution_count": 8,
   "metadata": {},
   "outputs": [],
   "source": [
    "label=hotel_list.iloc[2]['link'].split('/hotel/cn/')[1].split('.zh-cn.html?')[1].split('&sid=')[0]#随电脑不变"
   ]
  },
  {
   "cell_type": "code",
   "execution_count": 9,
   "metadata": {},
   "outputs": [],
   "source": [
    "#酒店的评论页的url，以便之后跳转该页面翻页\n",
    "#label是访问booking自带的识别信息，num为酒店数量\n",
    "def review_url(label,num):\n",
    "    review_url_list=[]\n",
    "    label=label\n",
    "    for index in range(0,num):\n",
    "        pagename_=hotel_list.iloc[index]['link'].split('/hotel/cn/')[1].split('.zh-cn.html?')[0]\n",
    "        review_url='https://www.booking.com/reviewlist.zh-cn.html?'+label+'&pagename='+pagename_+'&cc1=cn'\n",
    "        review_url_list.append(review_url)\n",
    "    return review_url_list"
   ]
  },
  {
   "cell_type": "code",
   "execution_count": 10,
   "metadata": {},
   "outputs": [],
   "source": [
    "hotel_list['review-url']=review_url(label,790)"
   ]
  },
  {
   "cell_type": "code",
   "execution_count": 11,
   "metadata": {},
   "outputs": [],
   "source": [
    "hotel_list['review-content']='NaN'"
   ]
  },
  {
   "cell_type": "markdown",
   "metadata": {},
   "source": [
    "### 计算评论页面翻页范围\n",
    "#### 整理review-num列的数据格式（1，830不识别，1830才可以）"
   ]
  },
  {
   "cell_type": "code",
   "execution_count": 12,
   "metadata": {},
   "outputs": [],
   "source": [
    "#判断评论翻页的范围\n",
    "#num为评论数量（review-num获得）\n",
    "def page_offset(num):\n",
    "    offset_range=0\n",
    "    if int(num)%10==0:\n",
    "        offset_range=int(num)\n",
    "    else:\n",
    "        offset_range=(int(num)//10+1)*10\n",
    "    return offset_range"
   ]
  },
  {
   "cell_type": "code",
   "execution_count": 13,
   "metadata": {},
   "outputs": [],
   "source": [
    "from collections import defaultdict"
   ]
  },
  {
   "cell_type": "code",
   "execution_count": 14,
   "metadata": {},
   "outputs": [],
   "source": [
    "hotel_review_list=[]\n",
    "hotel_review_error=[]"
   ]
  },
  {
   "cell_type": "code",
   "execution_count": 15,
   "metadata": {},
   "outputs": [
    {
     "name": "stdout",
     "output_type": "stream",
     "text": [
      "https://www.booking.com/reviewlist.zh-cn.html?label=gen173nr-1DCAQoggJCDXNlYXJjaF_ljJfkuqxIK1gEaDGIAQGYASu4AQfIAQzYAQPoAQH4AQOIAgGoAgO4AqShzu8FwAIB&pagename=bu-ke-qi-yuan-hostel&cc1=cn&offset=80&rows=10:sleeping0.28625601848037374secondsecondsssdsondseconds3secondseping0.755213090601925secondsdsss"
     ]
    }
   ],
   "source": [
    "for index in range(0,790):\n",
    "    review_num=hotel_list.iloc[index]['review-num']\n",
    "    review_url=hotel_list.iloc[index]['review-url']\n",
    "    #判断是否有评论人数,有则翻页爬取\n",
    "    if review_num==review_num:\n",
    "        offset_range=page_offset(review_num)#计算翻页的offset范围\n",
    "        review_content=defaultdict(int)\n",
    "        try:   \n",
    "            for page in range(0,offset_range,10):  \n",
    "                page_url=review_url+'&offset='+str(page)+'&rows=10'\n",
    "                tt = random.random()\n",
    "                flushprint(str(page_url)+':sleeping'+str(tt)+'seconds')\n",
    "                time.sleep(tt)\n",
    "\n",
    "                html=requests.get(page_url,headers=headers)\n",
    "                html.encoding='utf-8'\n",
    "                content=html.text\n",
    "                soup=BeautifulSoup(content,'html.parser')\n",
    "                \n",
    "                for item in soup.find_all('span',class_='bui-avatar-block__subtitle'):\n",
    "                    user_country=item.text.replace('\\n\\n','')\n",
    "                    if  user_country in review_content:\n",
    "                        review_content[user_country]+=1\n",
    "                    else:\n",
    "                        review_content[user_country]=1\n",
    "            hotel_review_list.append(review_content)\n",
    "        \n",
    "        except Exception as e:\n",
    "            print(index,review_num,review_url,e)\n",
    "            error_review=[index,review_num,review_url]\n",
    "            hotel_review_error.append(error_review)\n",
    "            continue\n",
    "    else:\n",
    "        review_='NaN'\n",
    "        hotel_review_list.append(review_)"
   ]
  },
  {
   "cell_type": "code",
   "execution_count": 17,
   "metadata": {},
   "outputs": [],
   "source": [
    "hotel_list['review-content']=hotel_review_list"
   ]
  },
  {
   "cell_type": "code",
   "execution_count": 18,
   "metadata": {},
   "outputs": [],
   "source": [
    "hotel_list.to_excel('beijing_review.xls')"
   ]
  }
 ],
 "metadata": {
  "kernelspec": {
   "display_name": "Python 3",
   "language": "python",
   "name": "python3"
  },
  "language_info": {
   "codemirror_mode": {
    "name": "ipython",
    "version": 3
   },
   "file_extension": ".py",
   "mimetype": "text/x-python",
   "name": "python",
   "nbconvert_exporter": "python",
   "pygments_lexer": "ipython3",
   "version": "3.7.0"
  }
 },
 "nbformat": 4,
 "nbformat_minor": 2
}
