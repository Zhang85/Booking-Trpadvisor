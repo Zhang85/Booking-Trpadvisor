{
 "cells": [
  {
   "cell_type": "code",
   "execution_count": 1,
   "metadata": {},
   "outputs": [],
   "source": [
    "import requests\n",
    "from bs4 import BeautifulSoup"
   ]
  },
  {
   "cell_type": "code",
   "execution_count": 2,
   "metadata": {},
   "outputs": [],
   "source": [
    "import time\n",
    "import random\n",
    "import pandas as pd"
   ]
  },
  {
   "cell_type": "code",
   "execution_count": 3,
   "metadata": {},
   "outputs": [],
   "source": [
    "import sys\n",
    "import os"
   ]
  },
  {
   "cell_type": "code",
   "execution_count": 5,
   "metadata": {},
   "outputs": [],
   "source": [
    "# 实时显示爬取的进度\n",
    "def flushprint(www):\n",
    "    sys.stdout.write('\\r')\n",
    "    sys.stdout.write('%s' %www)\n",
    "    sys.stdout.flush()"
   ]
  },
  {
   "cell_type": "markdown",
   "metadata": {},
   "source": [
    "### 先爬取城市酒店页面左侧的*住宿评级*（Booking酒店总数每天都在变化）\n",
    "#### 实惠型-1、经济型-2、舒适性-3、豪华型-4、尊贵型-5、未评级-0"
   ]
  },
  {
   "cell_type": "code",
   "execution_count": 6,
   "metadata": {},
   "outputs": [],
   "source": [
    "url='https://www.booking.com/searchresults.zh-cn.html?'\\\n",
    "    'ss=北京'\\\n",
    "    '&rows=25&offset='.format()"
   ]
  },
  {
   "cell_type": "code",
   "execution_count": 7,
   "metadata": {},
   "outputs": [],
   "source": [
    "headers={\n",
    "    'cookie':'用自己的啦',\n",
    "    'User-Agent':'用自己的啦'\n",
    "}"
   ]
  },
  {
   "cell_type": "code",
   "execution_count": 8,
   "metadata": {},
   "outputs": [],
   "source": [
    "html=requests.get(url,headers=headers)\n",
    "html.encoding='utf-8'\n",
    "content=html.text\n",
    "soup=BeautifulSoup(content,'html.parser')"
   ]
  },
  {
   "cell_type": "code",
   "execution_count": 9,
   "metadata": {},
   "outputs": [
    {
     "name": "stdout",
     "output_type": "stream",
     "text": [
      "实惠型:1\n",
      "经济型:123\n",
      "舒适型:228\n",
      "豪华型:208\n",
      "尊贵型:75\n",
      "未评级:153\n"
     ]
    }
   ],
   "source": [
    "#一个城市酒店的住宿评级以及相应的酒店数量：\n",
    "for item in soup.select('#filter_class .bui-checkbox__label'):\n",
    "    class_title=item.find('span',class_='filter_label').text.replace('\\n','')\n",
    "    class_num=item.find('span',class_='filter_count').text.replace('\\n','')\n",
    "    print(class_title+':'+class_num)"
   ]
  },
  {
   "cell_type": "code",
   "execution_count": 10,
   "metadata": {},
   "outputs": [],
   "source": [
    "#一个城市所有酒店名称与链接信息的list\n",
    "hotel_list=[]"
   ]
  },
  {
   "cell_type": "code",
   "execution_count": 11,
   "metadata": {},
   "outputs": [],
   "source": [
    "#实惠型class=1（实惠型数据少直接添加list，数据量大的可参照下列其他住宿类型）\n",
    "hotel_1=['1','快乐e家酒店公寓','/hotel/cn/kuai-le-ejia-jiu-dian-gong-yu.zh-cn.html?aid=304142&amp;label=gen173nr-1DCAEoggI46AdIM1gEaDGIAQGYASu4ARfIAQzYAQPoAQGIAgGoAgO4AviA8-4FwAIB&amp']\n",
    "hotel_list.append(hotel_1)"
   ]
  },
  {
   "cell_type": "code",
   "execution_count": 14,
   "metadata": {},
   "outputs": [],
   "source": [
    "#经济型class=2，一页25个数据\n",
    "for i in range(0,125,25):\n",
    "    url_2='https://www.booking.com/searchresults.zh-cn.html?'\\\n",
    "        'ss=成都'\\\n",
    "        '&rows=25&offset={page}'\\\n",
    "        '&nflt=class%3D2%3B'.format(page=i)\n",
    "    try:\n",
    "        tt = random.random()\n",
    "#         flushprint(str(url)+':sleeping'+str(tt)+'seconds')\n",
    "        time.sleep(tt)\n",
    "        \n",
    "        html_2=requests.get(url_2,headers=headers)\n",
    "        html_2.encoding='utf-8'\n",
    "        content_2=html_2.text\n",
    "        soup_2=BeautifulSoup(content_2,'html.parser')\n",
    "\n",
    "        for item in soup_2.select('.sr_property_block_main_row'):\n",
    "            link=item.select('.sr-hotel__title a')[0]['href'].replace('\\n','')#酒店链接\n",
    "            name=item.select('.sr-hotel__title span')[0].text.replace('\\n','')#酒店名称 \n",
    "            hotel_2=['2',name,link] \n",
    "            hotel_list.append(hotel_2)\n",
    "            \n",
    "    except Exception as e:\n",
    "        print(url_2,e)\n",
    "        continue"
   ]
  },
  {
   "cell_type": "code",
   "execution_count": 17,
   "metadata": {},
   "outputs": [],
   "source": [
    "#舒适性class=3\n",
    "for i in range(0,250,25):\n",
    "    url_3='https://www.booking.com/searchresults.zh-cn.html?'\\\n",
    "        'ss=成都'\\\n",
    "        '&rows=25&offset={page}'\\\n",
    "        '&nflt=class%3D3%3B'.format(page=i)\n",
    "    try:\n",
    "        html_3=requests.get(url_3,headers=headers)\n",
    "        html_3.encoding='utf-8'\n",
    "        content_3=html_3.text\n",
    "        soup_3=BeautifulSoup(content_3,'html.parser')\n",
    "\n",
    "        tt = random.random()\n",
    "        \n",
    "        for item in soup_3.select('.sr_property_block_main_row'):\n",
    "            link=item.select('.sr-hotel__title a')[0]['href'].replace('\\n','')#酒店链接\n",
    "            name=item.select('.sr-hotel__title span')[0].text.replace('\\n','')#酒店名称 \n",
    "            hotel_3=['3',name,link] \n",
    "            hotel_list.append(hotel_3)\n",
    "            \n",
    "        time.sleep(tt)\n",
    "        \n",
    "    except Exception as e:\n",
    "        print(url_3,e)\n",
    "        continue"
   ]
  },
  {
   "cell_type": "code",
   "execution_count": 19,
   "metadata": {},
   "outputs": [],
   "source": [
    "#豪华型class=4\n",
    "for i in range(0,225,25):\n",
    "    url_4='https://www.booking.com/searchresults.zh-cn.html?'\\\n",
    "        'ss=成都'\\\n",
    "        '&rows=25&offset={page}'\\\n",
    "        '&nflt=class%3D4%3B'.format(page=i)\n",
    "    try:\n",
    "        html_4=requests.get(url_4,headers=headers)\n",
    "        html_4.encoding='utf-8'\n",
    "        content_4=html_4.text\n",
    "        soup_4=BeautifulSoup(content_4,'html.parser')\n",
    "\n",
    "        tt = random.random()\n",
    "        \n",
    "        for item in soup_4.select('.sr_property_block_main_row'):\n",
    "            link=item.select('.sr-hotel__title a')[0]['href'].replace('\\n','')#酒店链接\n",
    "            name=item.select('.sr-hotel__title span')[0].text.replace('\\n','')#酒店名称 \n",
    "            hotel_4=['4',name,link] \n",
    "            hotel_list.append(hotel_4)\n",
    "            \n",
    "        time.sleep(tt)\n",
    "        \n",
    "    except Exception as e:\n",
    "        print(url_4,e)\n",
    "        continue"
   ]
  },
  {
   "cell_type": "code",
   "execution_count": 23,
   "metadata": {},
   "outputs": [],
   "source": [
    "#尊贵型class=5\n",
    "for i in range(0,75,25):\n",
    "    url_5='https://www.booking.com/searchresults.zh-cn.html?'\\\n",
    "        'ss=成都'\\\n",
    "        '&rows=25&offset={page}'\\\n",
    "        '&nflt=class%3D5%3B'.format(page=i)\n",
    "    try:\n",
    "        html_5=requests.get(url_5,headers=headers)\n",
    "        html_5.encoding='utf-8'\n",
    "        content_5=html_5.text\n",
    "        soup_5=BeautifulSoup(content_5,'html.parser')\n",
    "\n",
    "        tt = random.random()\n",
    "        \n",
    "        for item in soup_5.select('.sr_property_block_main_row'):\n",
    "            link=item.select('.sr-hotel__title a')[0]['href'].replace('\\n','')#酒店链接\n",
    "            name=item.select('.sr-hotel__title span')[0].text.replace('\\n','')#酒店名称 \n",
    "            hotel_5=['5',name,link] \n",
    "            hotel_list.append(hotel_5)\n",
    "            \n",
    "        time.sleep(tt)\n",
    "        \n",
    "    except Exception as e:\n",
    "        print(url_5,e)\n",
    "        continue"
   ]
  },
  {
   "cell_type": "code",
   "execution_count": 62,
   "metadata": {},
   "outputs": [],
   "source": [
    "#未评级class=0\n",
    "for i in range(0,200,25):\n",
    "    url_0='https://www.booking.com/searchresults.zh-cn.html?'\\\n",
    "        'ss=成都'\\\n",
    "        '&rows=25&offset={page}'\\\n",
    "        '&nflt=class%3D0%3B'.format(page=i)\n",
    "    try:\n",
    "        html_0=requests.get(url_0,headers=headers)\n",
    "        html_0.encoding='utf-8'\n",
    "        content_0=html_0.text\n",
    "        soup_0=BeautifulSoup(content_0,'html.parser')\n",
    "\n",
    "        tt = random.random()\n",
    "        \n",
    "        for item in soup_0.select('.sr_property_block_main_row'):\n",
    "            link=item.select('.sr-hotel__title a')[0]['href'].replace('\\n','')#酒店链接\n",
    "            name=item.select('.sr-hotel__title span')[0].text.replace('\\n','')#酒店名称 \n",
    "            hotel_0=['0',name,link] \n",
    "            hotel_list.append(hotel_0)\n",
    "            \n",
    "        time.sleep(tt)\n",
    "        \n",
    "    except Exception as e:\n",
    "        print(url_0,e)\n",
    "        continue"
   ]
  },
  {
   "cell_type": "code",
   "execution_count": 65,
   "metadata": {},
   "outputs": [],
   "source": [
    "df=pd.DataFrame(hotel_list,columns=['star-rating','name','link'])"
   ]
  },
  {
   "cell_type": "code",
   "execution_count": 66,
   "metadata": {},
   "outputs": [
    {
     "data": {
      "text/html": [
       "<div>\n",
       "<style scoped>\n",
       "    .dataframe tbody tr th:only-of-type {\n",
       "        vertical-align: middle;\n",
       "    }\n",
       "\n",
       "    .dataframe tbody tr th {\n",
       "        vertical-align: top;\n",
       "    }\n",
       "\n",
       "    .dataframe thead th {\n",
       "        text-align: right;\n",
       "    }\n",
       "</style>\n",
       "<table border=\"1\" class=\"dataframe\">\n",
       "  <thead>\n",
       "    <tr style=\"text-align: right;\">\n",
       "      <th></th>\n",
       "      <th>star-rating</th>\n",
       "      <th>name</th>\n",
       "      <th>link</th>\n",
       "    </tr>\n",
       "  </thead>\n",
       "  <tbody>\n",
       "    <tr>\n",
       "      <th>0</th>\n",
       "      <td>1</td>\n",
       "      <td>快乐e家酒店公寓</td>\n",
       "      <td>/hotel/cn/kuai-le-ejia-jiu-dian-gong-yu.zh-cn....</td>\n",
       "    </tr>\n",
       "    <tr>\n",
       "      <th>1</th>\n",
       "      <td>2</td>\n",
       "      <td>如家快捷酒店成都天府广场地铁站梨花街店</td>\n",
       "      <td>/hotel/cn/home-inn-chengdu-tianfu-square-metro...</td>\n",
       "    </tr>\n",
       "    <tr>\n",
       "      <th>2</th>\n",
       "      <td>2</td>\n",
       "      <td>花筑-七只雀别院</td>\n",
       "      <td>/hotel/cn/hua-zhu-qi-zhi-que-bie-yuan.zh-cn.ht...</td>\n",
       "    </tr>\n",
       "    <tr>\n",
       "      <th>3</th>\n",
       "      <td>2</td>\n",
       "      <td>CC的家</td>\n",
       "      <td>/hotel/cn/ccs-home.zh-cn.html?label=gen173nr-1...</td>\n",
       "    </tr>\n",
       "    <tr>\n",
       "      <th>4</th>\n",
       "      <td>2</td>\n",
       "      <td>7天连锁酒店成都正府街文殊坊店</td>\n",
       "      <td>/hotel/cn/7days-inn-chengdu-zhengfu-street.zh-...</td>\n",
       "    </tr>\n",
       "  </tbody>\n",
       "</table>\n",
       "</div>"
      ],
      "text/plain": [
       "  star-rating                 name  \\\n",
       "0           1             快乐e家酒店公寓   \n",
       "1           2  如家快捷酒店成都天府广场地铁站梨花街店   \n",
       "2           2             花筑-七只雀别院   \n",
       "3           2                 CC的家   \n",
       "4           2      7天连锁酒店成都正府街文殊坊店   \n",
       "\n",
       "                                                link  \n",
       "0  /hotel/cn/kuai-le-ejia-jiu-dian-gong-yu.zh-cn....  \n",
       "1  /hotel/cn/home-inn-chengdu-tianfu-square-metro...  \n",
       "2  /hotel/cn/hua-zhu-qi-zhi-que-bie-yuan.zh-cn.ht...  \n",
       "3  /hotel/cn/ccs-home.zh-cn.html?label=gen173nr-1...  \n",
       "4  /hotel/cn/7days-inn-chengdu-zhengfu-street.zh-...  "
      ]
     },
     "execution_count": 66,
     "metadata": {},
     "output_type": "execute_result"
    }
   ],
   "source": [
    "df.head()"
   ]
  },
  {
   "cell_type": "code",
   "execution_count": 67,
   "metadata": {},
   "outputs": [],
   "source": [
    "# 私心觉得Excel格式对后续处理数据好用！\n",
    "df.to_excel('chengdu_link.xls')"
   ]
  }
 ],
 "metadata": {
  "kernelspec": {
   "display_name": "Python 3",
   "language": "python",
   "name": "python3"
  },
  "language_info": {
   "codemirror_mode": {
    "name": "ipython",
    "version": 3
   },
   "file_extension": ".py",
   "mimetype": "text/x-python",
   "name": "python",
   "nbconvert_exporter": "python",
   "pygments_lexer": "ipython3",
   "version": "3.7.0"
  }
 },
 "nbformat": 4,
 "nbformat_minor": 2
}
