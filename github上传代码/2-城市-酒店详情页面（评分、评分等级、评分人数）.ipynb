{
 "cells": [
  {
   "cell_type": "code",
   "execution_count": 1,
   "metadata": {},
   "outputs": [],
   "source": [
    "import requests\n",
    "from bs4 import BeautifulSoup"
   ]
  },
  {
   "cell_type": "code",
   "execution_count": null,
   "metadata": {},
   "outputs": [],
   "source": [
    "import time\n",
    "import random\n",
    "import pandas as pd"
   ]
  },
  {
   "cell_type": "code",
   "execution_count": 2,
   "metadata": {},
   "outputs": [],
   "source": [
    "import sys\n",
    "import os"
   ]
  },
  {
   "cell_type": "code",
   "execution_count": 3,
   "metadata": {},
   "outputs": [],
   "source": [
    "def flushprint(www):\n",
    "    sys.stdout.write('\\r')\n",
    "    sys.stdout.write('%s' %www)\n",
    "    sys.stdout.flush()"
   ]
  },
  {
   "cell_type": "code",
   "execution_count": 5,
   "metadata": {},
   "outputs": [],
   "source": [
    "# 1-城市（住宿类型、酒店名称、酒店link）.ipynb 保存的文件\n",
    "hotel_list=pd.read_excel('beijing_link.xls',index_col=0)"
   ]
  },
  {
   "cell_type": "code",
   "execution_count": 6,
   "metadata": {},
   "outputs": [
    {
     "data": {
      "text/plain": [
       "790"
      ]
     },
     "execution_count": 6,
     "metadata": {},
     "output_type": "execute_result"
    }
   ],
   "source": [
    "len(hotel_list)"
   ]
  },
  {
   "cell_type": "code",
   "execution_count": 7,
   "metadata": {},
   "outputs": [
    {
     "data": {
      "text/html": [
       "<div>\n",
       "<style scoped>\n",
       "    .dataframe tbody tr th:only-of-type {\n",
       "        vertical-align: middle;\n",
       "    }\n",
       "\n",
       "    .dataframe tbody tr th {\n",
       "        vertical-align: top;\n",
       "    }\n",
       "\n",
       "    .dataframe thead th {\n",
       "        text-align: right;\n",
       "    }\n",
       "</style>\n",
       "<table border=\"1\" class=\"dataframe\">\n",
       "  <thead>\n",
       "    <tr style=\"text-align: right;\">\n",
       "      <th></th>\n",
       "      <th>star-rating</th>\n",
       "      <th>name</th>\n",
       "      <th>link</th>\n",
       "    </tr>\n",
       "  </thead>\n",
       "  <tbody>\n",
       "    <tr>\n",
       "      <th>0</th>\n",
       "      <td>1</td>\n",
       "      <td>北京有家国际青年旅舍</td>\n",
       "      <td>/hotel/cn/youjia-international-youth-beijing.z...</td>\n",
       "    </tr>\n",
       "    <tr>\n",
       "      <th>1</th>\n",
       "      <td>2</td>\n",
       "      <td>北京和园国际青年客栈</td>\n",
       "      <td>/hotel/cn/heyuan-international-youth-hostel.zh...</td>\n",
       "    </tr>\n",
       "    <tr>\n",
       "      <th>2</th>\n",
       "      <td>2</td>\n",
       "      <td>北京隆福天缘宾馆</td>\n",
       "      <td>/hotel/cn/happy-dragon-hostel.zh-cn.html?label...</td>\n",
       "    </tr>\n",
       "    <tr>\n",
       "      <th>3</th>\n",
       "      <td>2</td>\n",
       "      <td>来不轻旅丨三里屯店</td>\n",
       "      <td>/hotel/cn/sheng-sha-bin-guan.zh-cn.html?label=...</td>\n",
       "    </tr>\n",
       "    <tr>\n",
       "      <th>4</th>\n",
       "      <td>2</td>\n",
       "      <td>锦江之星北京广渠门店</td>\n",
       "      <td>/hotel/cn/jj-inns-beijing-guangqu-gate.zh-cn.h...</td>\n",
       "    </tr>\n",
       "  </tbody>\n",
       "</table>\n",
       "</div>"
      ],
      "text/plain": [
       "   star-rating        name                                               link\n",
       "0            1  北京有家国际青年旅舍  /hotel/cn/youjia-international-youth-beijing.z...\n",
       "1            2  北京和园国际青年客栈  /hotel/cn/heyuan-international-youth-hostel.zh...\n",
       "2            2    北京隆福天缘宾馆  /hotel/cn/happy-dragon-hostel.zh-cn.html?label...\n",
       "3            2   来不轻旅丨三里屯店  /hotel/cn/sheng-sha-bin-guan.zh-cn.html?label=...\n",
       "4            2  锦江之星北京广渠门店  /hotel/cn/jj-inns-beijing-guangqu-gate.zh-cn.h..."
      ]
     },
     "execution_count": 7,
     "metadata": {},
     "output_type": "execute_result"
    }
   ],
   "source": [
    "hotel_list.head()"
   ]
  },
  {
   "cell_type": "code",
   "execution_count": 8,
   "metadata": {},
   "outputs": [],
   "source": [
    "headers={\n",
    "    'cookie':'用自己的啦',\n",
    "    'user-agent':'用自己的啦'\n",
    "}"
   ]
  },
  {
   "cell_type": "code",
   "execution_count": 8,
   "metadata": {},
   "outputs": [],
   "source": [
    "hotel_score=[]\n",
    "# hotel_error=[]#报错则将错误信息收集"
   ]
  },
  {
   "cell_type": "code",
   "execution_count": 13,
   "metadata": {
    "scrolled": true
   },
   "outputs": [
    {
     "name": "stdout",
     "output_type": "stream",
     "text": [
      "https://www.booking.com/hotel/cn/798yi-zhu-qu-lofthong-yuan-gong-yu-shang-xia-pu-wei-di-tie-14hao-xian-wang-jing-.zh-cn.html?label=gen173nr-1DCAQoggJCDXNlYXJjaF_ljJfkuqxIK1gEaDGIAQGYASu4AQfIAQzYAQPoAQH4AQOIAgGoAgO4Av-pzu8FwAIB&sid=7935495a3dd5961707c88bd0b2739902&all_sr_blocks=375992601_208915282_1_0_0%2C375992601_208915282_1_0_0&checkin=2020-01-10&checkout=2020-01-11&dest_id=-1898541&dest_type=city&group_adults=2&group_children=0&hapos=118&highlighted_blocks=375992601_208915282_1_0_0%2C375992601_208915282_1_0_0&hpos=18&nflt=class%3D0%3B&no_rooms=1&sr_order=popularity&srepoch=1576244479&srpvid=7682603f4954012b&ucfs=1&#tab-reviews:sleeping0.6250743556194123seconds"
     ]
    }
   ],
   "source": [
    "for index in range(601,790): #hotel_list.index:\n",
    "    #剔除href中的识别信息\n",
    "    hotel_info_link=hotel_list.iloc[index]['link'].replace('&from=searchresults;highlight_room=#hotelTmpl','')\n",
    "    url='https://www.booking.com'\\\n",
    "        '{link}'\\\n",
    "        '&#tab-reviews'.format(link=hotel_info_link)\n",
    "    \n",
    "    star_rating=hotel_list.iloc[index]['star-rating']#酒店住宿评级 \n",
    "    name=hotel_list.iloc[index]['name']#酒店中文名称\n",
    "    link=hotel_list.iloc[index]['link']\n",
    "    \n",
    "    try:\n",
    "        tt = random.random()\n",
    "        flushprint(str(url)+':sleeping'+str(tt)+'seconds')\n",
    "        time.sleep(tt)\n",
    "    \n",
    "        #爬取酒店详情网页\n",
    "        html=requests.get(url)\n",
    "        html.encoding='utf-8'\n",
    "        content=html.text\n",
    "        soup=BeautifulSoup(content,'html.parser')\n",
    "\n",
    "        if soup.find('div',class_='not_enough_reviews'):\n",
    "            hotel=[star_rating,name,link,url,'NaN','NaN','NaN']\n",
    "            hotel_score.append(hotel)\n",
    "        else:\n",
    "            score=soup.find('span',class_='review-score-badge').text.replace('\\n','') #酒店评分\n",
    "            score_title=soup.find('span',class_='review-score-widget__text').text #评分等级\n",
    "            review_num=soup.find('span',class_='review-score-widget__subtext').text.replace('\\n','')#评分人数\n",
    "            hotel=[star_rating,name,link,url,score,score_title,review_num]\n",
    "            hotel_score.append(hotel)\n",
    "            \n",
    "#         #评分细项\n",
    "#         for item in soup.find_all('span',class_='c-score-bar__score'):\n",
    "#             hotel.append(item.text)\n",
    "\n",
    "    except Exception as e:\n",
    "        print(index,url,e)\n",
    "        error=[index,star_rating,name,link,url]\n",
    "        hotel_error.append(error)\n",
    "        continue"
   ]
  },
  {
   "cell_type": "code",
   "execution_count": 16,
   "metadata": {},
   "outputs": [],
   "source": [
    "hotel_score_all=pd.DataFrame(hotel_score,columns=['star-rating','name','link','hotel-info-link','score','score-title','review-num'])"
   ]
  },
  {
   "cell_type": "code",
   "execution_count": 17,
   "metadata": {},
   "outputs": [],
   "source": [
    "hotel_score_all.to_excel('beijing_score.xls')"
   ]
  }
 ],
 "metadata": {
  "kernelspec": {
   "display_name": "Python 3",
   "language": "python",
   "name": "python3"
  },
  "language_info": {
   "codemirror_mode": {
    "name": "ipython",
    "version": 3
   },
   "file_extension": ".py",
   "mimetype": "text/x-python",
   "name": "python",
   "nbconvert_exporter": "python",
   "pygments_lexer": "ipython3",
   "version": "3.7.0"
  }
 },
 "nbformat": 4,
 "nbformat_minor": 2
}
