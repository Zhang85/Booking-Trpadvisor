{
 "cells": [
  {
   "cell_type": "code",
   "execution_count": 1,
   "metadata": {},
   "outputs": [],
   "source": [
    "import requests\n",
    "from bs4 import BeautifulSoup\n",
    "import time\n",
    "import random\n",
    "import pandas as pd"
   ]
  },
  {
   "cell_type": "code",
   "execution_count": 2,
   "metadata": {},
   "outputs": [],
   "source": [
    "import sys\n",
    "import os"
   ]
  },
  {
   "cell_type": "code",
   "execution_count": 3,
   "metadata": {},
   "outputs": [],
   "source": [
    "def flushprint(www):\n",
    "    sys.stdout.write('\\r')\n",
    "    sys.stdout.write('%s' %www)\n",
    "    sys.stdout.flush()"
   ]
  },
  {
   "cell_type": "markdown",
   "metadata": {},
   "source": [
    "### 城市景点类型及数量"
   ]
  },
  {
   "cell_type": "code",
   "execution_count": 4,
   "metadata": {},
   "outputs": [],
   "source": [
    "attractions_url='https://www.tripadvisor.cn/Attractions-g294212-Activities-Beijing.html'"
   ]
  },
  {
   "cell_type": "code",
   "execution_count": 5,
   "metadata": {},
   "outputs": [],
   "source": [
    "html=requests.get(attractions_url)\n",
    "html.encoding='utf-8'\n",
    "content=html.text\n",
    "soup=BeautifulSoup(content,'html.parser')"
   ]
  },
  {
   "cell_type": "code",
   "execution_count": 6,
   "metadata": {},
   "outputs": [],
   "source": [
    "attr_type=[]\n",
    "for item in soup.find('div',class_='filter_wrap_0').find_all('a',class_='taLnk'):\n",
    "    attr_type_name=item.text\n",
    "    attr_type_link=item['href']\n",
    "    attr_type_=[attr_type_name,attr_type_link]\n",
    "    attr_type.append(attr_type_)"
   ]
  },
  {
   "cell_type": "code",
   "execution_count": 7,
   "metadata": {},
   "outputs": [
    {
     "data": {
      "text/plain": [
       "[['景点与地标 (767)', '/Attractions-g294212-Activities-c47-Beijing.html'],\n",
       " ['自然与公园 (275)', '/Attractions-g294212-Activities-c57-Beijing.html'],\n",
       " ['博物馆 (303)', '/Attractions-g294212-Activities-c49-Beijing.html'],\n",
       " ['水上活动与游乐园 (48)', '/Attractions-g294212-Activities-c52-Beijing.html'],\n",
       " ['动物园与水族馆 (10)', '/Attractions-g294212-Activities-c48-Beijing.html'],\n",
       " ['夜生活 (79)', '/Attractions-g294212-Activities-c20-Beijing.html'],\n",
       " ['水疗与养生 (62)', '/Attractions-g294212-Activities-c40-Beijing.html'],\n",
       " ['休闲与游戏 (60)', '/Attractions-g294212-Activities-c56-Beijing.html']]"
      ]
     },
     "execution_count": 7,
     "metadata": {},
     "output_type": "execute_result"
    }
   ],
   "source": [
    "attr_type"
   ]
  },
  {
   "cell_type": "code",
   "execution_count": 8,
   "metadata": {},
   "outputs": [],
   "source": [
    "df_attr=pd.DataFrame(attr_type,columns=['attr-type-name','attr-type-link'])"
   ]
  },
  {
   "cell_type": "code",
   "execution_count": 9,
   "metadata": {},
   "outputs": [],
   "source": [
    "df_attr.to_excel('beijing_attr_type.xls')"
   ]
  },
  {
   "cell_type": "markdown",
   "metadata": {},
   "source": [
    "### 爬取某一城市所有景点以及url"
   ]
  },
  {
   "cell_type": "code",
   "execution_count": 10,
   "metadata": {},
   "outputs": [],
   "source": [
    "attr_type=pd.read_excel('beijing_attr_type.xls')"
   ]
  },
  {
   "cell_type": "code",
   "execution_count": 11,
   "metadata": {},
   "outputs": [
    {
     "data": {
      "text/html": [
       "<div>\n",
       "<style scoped>\n",
       "    .dataframe tbody tr th:only-of-type {\n",
       "        vertical-align: middle;\n",
       "    }\n",
       "\n",
       "    .dataframe tbody tr th {\n",
       "        vertical-align: top;\n",
       "    }\n",
       "\n",
       "    .dataframe thead th {\n",
       "        text-align: right;\n",
       "    }\n",
       "</style>\n",
       "<table border=\"1\" class=\"dataframe\">\n",
       "  <thead>\n",
       "    <tr style=\"text-align: right;\">\n",
       "      <th></th>\n",
       "      <th>attr-type-name</th>\n",
       "      <th>attr-type-num</th>\n",
       "      <th>attr-type-link</th>\n",
       "    </tr>\n",
       "  </thead>\n",
       "  <tbody>\n",
       "    <tr>\n",
       "      <th>0</th>\n",
       "      <td>景点与地标</td>\n",
       "      <td>767</td>\n",
       "      <td>/Attractions-g294212-Activities-c47-Beijing.html</td>\n",
       "    </tr>\n",
       "    <tr>\n",
       "      <th>1</th>\n",
       "      <td>自然与公园</td>\n",
       "      <td>275</td>\n",
       "      <td>/Attractions-g294212-Activities-c57-Beijing.html</td>\n",
       "    </tr>\n",
       "    <tr>\n",
       "      <th>2</th>\n",
       "      <td>博物馆</td>\n",
       "      <td>303</td>\n",
       "      <td>/Attractions-g294212-Activities-c49-Beijing.html</td>\n",
       "    </tr>\n",
       "    <tr>\n",
       "      <th>3</th>\n",
       "      <td>水上活动与游乐园</td>\n",
       "      <td>48</td>\n",
       "      <td>/Attractions-g294212-Activities-c52-Beijing.html</td>\n",
       "    </tr>\n",
       "    <tr>\n",
       "      <th>4</th>\n",
       "      <td>动物园与水族馆</td>\n",
       "      <td>10</td>\n",
       "      <td>/Attractions-g294212-Activities-c48-Beijing.html</td>\n",
       "    </tr>\n",
       "  </tbody>\n",
       "</table>\n",
       "</div>"
      ],
      "text/plain": [
       "  attr-type-name  attr-type-num  \\\n",
       "0         景点与地标             767   \n",
       "1         自然与公园             275   \n",
       "2           博物馆             303   \n",
       "3      水上活动与游乐园              48   \n",
       "4       动物园与水族馆              10   \n",
       "\n",
       "                                     attr-type-link  \n",
       "0  /Attractions-g294212-Activities-c47-Beijing.html  \n",
       "1  /Attractions-g294212-Activities-c57-Beijing.html  \n",
       "2  /Attractions-g294212-Activities-c49-Beijing.html  \n",
       "3  /Attractions-g294212-Activities-c52-Beijing.html  \n",
       "4  /Attractions-g294212-Activities-c48-Beijing.html  "
      ]
     },
     "execution_count": 11,
     "metadata": {},
     "output_type": "execute_result"
    }
   ],
   "source": [
    "attr_type.head()"
   ]
  },
  {
   "cell_type": "code",
   "execution_count": 12,
   "metadata": {},
   "outputs": [],
   "source": [
    "# 翻页：一页30条数据\n",
    "def page_offset(num):\n",
    "    offset_range=0\n",
    "    if int(num)%30==0:\n",
    "        offset_range=int(num)\n",
    "    else:\n",
    "        offset_range=(int(num)//30+1)*30\n",
    "    return offset_range"
   ]
  },
  {
   "cell_type": "code",
   "execution_count": 13,
   "metadata": {},
   "outputs": [],
   "source": [
    "#城市经典页面的翻页url准备好：\n",
    "attractions=[]"
   ]
  },
  {
   "cell_type": "code",
   "execution_count": null,
   "metadata": {},
   "outputs": [
    {
     "name": "stdout",
     "output_type": "stream",
     "text": [
      "https://www.tripadvisor.cn/Attractions-g294212-Activities-c57-Beijing.html-oa270-Chongqing.html#FILTERED_LIST:sleeping0.5929789648662769secondsss"
     ]
    }
   ],
   "source": [
    "for index in attr_type.index:\n",
    "    attr_type_num=attr_type.iloc[index]['attr-type-num']\n",
    "    page_range=page_offset(attr_type_num)\n",
    "    for page in range(0,page_range,30):\n",
    "        if page==0:\n",
    "            url='https://www.tripadvisor.cn'+attr_type.iloc[index]['attr-type-link']\n",
    "            try:\n",
    "                tt = random.random()\n",
    "                flushprint(str(url)+':sleeping'+str(tt)+'seconds')\n",
    "                time.sleep(tt)\n",
    "\n",
    "                html_=requests.get(url)\n",
    "                html_.encoding='utf-8'\n",
    "                content_=html_.text\n",
    "                soup_=BeautifulSoup(content_,'html.parser')\n",
    "                for txt in soup_.select('.listing_title  a'):\n",
    "                    attr_name=txt.text\n",
    "                    attr_link=txt['href']\n",
    "                    attr_list=[attr_name,attr_link]\n",
    "                    attractions.append(attr_list)    \n",
    "            except Exception as e:\n",
    "                print (url,e)\n",
    "            \n",
    "        else:\n",
    "            attr_type_link2=attr_type.iloc[index]['attr-type-link'].replace('-Chongqing.html','')\n",
    "            url='https://www.tripadvisor.cn'+attr_type_link2+'-oa'+str(page)+'-Chongqing.html#FILTERED_LIST'\n",
    "            try:\n",
    "                tt = random.random()\n",
    "                flushprint(str(url)+':sleeping'+str(tt)+'seconds')\n",
    "                time.sleep(tt)\n",
    "\n",
    "                html_=requests.get(url)\n",
    "                html_.encoding='utf-8'\n",
    "                content_=html_.text\n",
    "                soup_=BeautifulSoup(content_,'html.parser')\n",
    "                \n",
    "                for txt in soup_.select('.listing_title  a'):\n",
    "                    attr_name=txt.text\n",
    "                    attr_link=txt['href']\n",
    "                    attr_list=[attr_name,attr_link]\n",
    "                    attractions.append(attr_list)                     \n",
    "            except Exception as e:\n",
    "                print (url,e)"
   ]
  },
  {
   "cell_type": "code",
   "execution_count": 16,
   "metadata": {},
   "outputs": [],
   "source": [
    "df_attrations=pd.DataFrame(attractions,columns=['attr-name','attr-link'])"
   ]
  },
  {
   "cell_type": "code",
   "execution_count": 19,
   "metadata": {},
   "outputs": [],
   "source": [
    "df_attrations.to_excel('tianjin_attractions.xls')"
   ]
  }
 ],
 "metadata": {
  "kernelspec": {
   "display_name": "Python 3",
   "language": "python",
   "name": "python3"
  },
  "language_info": {
   "codemirror_mode": {
    "name": "ipython",
    "version": 3
   },
   "file_extension": ".py",
   "mimetype": "text/x-python",
   "name": "python",
   "nbconvert_exporter": "python",
   "pygments_lexer": "ipython3",
   "version": "3.7.0"
  }
 },
 "nbformat": 4,
 "nbformat_minor": 2
}
