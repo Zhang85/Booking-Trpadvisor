{
 "cells": [
  {
   "cell_type": "code",
   "execution_count": 1,
   "metadata": {},
   "outputs": [],
   "source": [
    "import requests\n",
    "from bs4 import BeautifulSoup\n",
    "import time\n",
    "import random\n",
    "import pandas as pd"
   ]
  },
  {
   "cell_type": "code",
   "execution_count": 3,
   "metadata": {},
   "outputs": [],
   "source": [
    "import sys\n",
    "import os"
   ]
  },
  {
   "cell_type": "code",
   "execution_count": 4,
   "metadata": {},
   "outputs": [],
   "source": [
    "def flushprint(www):\n",
    "    sys.stdout.write('\\r')\n",
    "    sys.stdout.write('%s' %www)\n",
    "    sys.stdout.flush()"
   ]
  },
  {
   "cell_type": "code",
   "execution_count": 5,
   "metadata": {},
   "outputs": [],
   "source": [
    "attractions=pd.read_excel('beijing_attractions.xls')"
   ]
  },
  {
   "cell_type": "code",
   "execution_count": 8,
   "metadata": {},
   "outputs": [],
   "source": [
    "def page_offset(num):\n",
    "    offset_range=0\n",
    "    if int(num)%5==0:\n",
    "        offset_range=int(num)\n",
    "    else:\n",
    "        offset_range=(int(num)//5+1)*5\n",
    "    return offset_range"
   ]
  },
  {
   "cell_type": "code",
   "execution_count": 9,
   "metadata": {},
   "outputs": [],
   "source": [
    "attr_info=[]\n",
    "error_info=[]"
   ]
  },
  {
   "cell_type": "code",
   "execution_count": 16,
   "metadata": {},
   "outputs": [
    {
     "name": "stdout",
     "output_type": "stream",
     "text": [
      "1603:http://www.tripadvisor.cn/Attraction_Review-g294212-d1979733-Reviews-Beijing_Dongfangqishi_Recreation_Center-Beijing.html:sleeping0.5210448552427408secondssondsconds142934884secondsdsseconds"
     ]
    }
   ],
   "source": [
    "for index in range(0,1604):\n",
    "    url='http://www.tripadvisor.cn'+attractions.iloc[index]['attr-link']\n",
    "    attr_name=attractions.iloc[index]['attr-name']\n",
    "    attr_link=attractions.iloc[index]['attr-link']\n",
    "    try:\n",
    "        tt = random.random()\n",
    "        flushprint(str(index)+':'+str(url)+':sleeping'+str(tt)+'seconds')\n",
    "        time.sleep(tt)\n",
    "        \n",
    "        html=requests.get(url)\n",
    "        html.encoding='utf-8'\n",
    "        content=html.text\n",
    "        soup=BeautifulSoup(content,'html.parser')\n",
    "        \n",
    "        if soup.select('#taplc_resp_attraction_header_ar_responsive_0 .ui_bubble_rating'):\n",
    "            attr_score=soup.find('span',class_='ui_bubble_rating')['class'][1].replace('bubble_','')\n",
    "        else:\n",
    "            attr_score='0'\n",
    "        if soup.select('#taplc_resp_attraction_header_ar_responsive_0 .reviewCount'):\n",
    "            review_num=soup.find('span',class_='reviewCount').text.replace(' 条点评','')\n",
    "        else:\n",
    "            review_num='0'               \n",
    "        attr_info_=[attr_name,attr_link,attr_score,review_num]\n",
    "        attr_info.append(attr_info_)\n",
    "            \n",
    "    except Exception as e:\n",
    "        print(index,attr_name,attr_link,url,e)\n",
    "        error_=[index,attr_name,attr_link]\n",
    "        continue"
   ]
  },
  {
   "cell_type": "code",
   "execution_count": 19,
   "metadata": {},
   "outputs": [],
   "source": [
    "df=pd.DataFrame(attr_info,columns=['attr-name','attr-link','score','review-num'])"
   ]
  },
  {
   "cell_type": "code",
   "execution_count": 20,
   "metadata": {},
   "outputs": [],
   "source": [
    "df.to_excel('beijing_score.xls')"
   ]
  },
  {
   "cell_type": "code",
   "execution_count": null,
   "metadata": {},
   "outputs": [],
   "source": []
  }
 ],
 "metadata": {
  "kernelspec": {
   "display_name": "Python 3",
   "language": "python",
   "name": "python3"
  },
  "language_info": {
   "codemirror_mode": {
    "name": "ipython",
    "version": 3
   },
   "file_extension": ".py",
   "mimetype": "text/x-python",
   "name": "python",
   "nbconvert_exporter": "python",
   "pygments_lexer": "ipython3",
   "version": "3.7.0"
  }
 },
 "nbformat": 4,
 "nbformat_minor": 2
}
