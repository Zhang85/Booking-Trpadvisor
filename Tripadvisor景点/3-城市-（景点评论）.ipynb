{
 "cells": [
  {
   "cell_type": "code",
   "execution_count": 2,
   "metadata": {},
   "outputs": [],
   "source": [
    "import requests\n",
    "from bs4 import BeautifulSoup\n",
    "import time\n",
    "import random\n",
    "import pandas as pd"
   ]
  },
  {
   "cell_type": "code",
   "execution_count": 3,
   "metadata": {},
   "outputs": [],
   "source": [
    "import sys\n",
    "import os"
   ]
  },
  {
   "cell_type": "code",
   "execution_count": 4,
   "metadata": {},
   "outputs": [],
   "source": [
    "from selenium import webdriver"
   ]
  },
  {
   "cell_type": "code",
   "execution_count": 7,
   "metadata": {},
   "outputs": [],
   "source": [
    "from collections import defaultdict"
   ]
  },
  {
   "cell_type": "code",
   "execution_count": 8,
   "metadata": {},
   "outputs": [],
   "source": [
    "def flushprint(www):\n",
    "    sys.stdout.write('\\r')\n",
    "    sys.stdout.write('%s' %www)\n",
    "    sys.stdout.flush()"
   ]
  },
  {
   "cell_type": "code",
   "execution_count": 9,
   "metadata": {},
   "outputs": [],
   "source": [
    "attr_score=pd.read_excel('beijing_score.xls')"
   ]
  },
  {
   "cell_type": "code",
   "execution_count": 11,
   "metadata": {},
   "outputs": [],
   "source": [
    "review_content=[]"
   ]
  },
  {
   "cell_type": "code",
   "execution_count": null,
   "metadata": {},
   "outputs": [],
   "source": [
    "for index in range(0,1152):\n",
    "    review_content_=[]\n",
    "    url='https://www.tripadvisor.cn'+attr_score.iloc[index]['attr-link']\n",
    "    attr_name=attr_score.iloc[index]['attr-name']\n",
    "    attr_link=attr_score.iloc[index]['attr-link']\n",
    "    score=attr_score.iloc[index]['score']\n",
    "    review_num=attr_score.iloc[index]['review-num']\n",
    "    review=[attr_name,attr_link,score,review_num]\n",
    "    try:\n",
    "        tt = random.random()\n",
    "        flushprint(str(index)+':'+str(url)+':sleeping'+str(tt)+'seconds')\n",
    "        time.sleep(tt)\n",
    "        \n",
    "        html=requests.get(url)\n",
    "        html.encoding='utf-8'\n",
    "        content=html.content\n",
    "        soup=BeautifulSoup(content,'html.parser')\n",
    "        try:\n",
    "            if soup.select('.react-container .location-review-review-list-parts-ReviewFilters__filters_wrap--y1t86 .ui_columns .is-3-tablet .location-review-review-list-parts-ReviewFilter__filter_table--1H9KD .location-review-review-list-parts-LanguageFilter__taLnk--tu85q'):\n",
    "                browser = webdriver.Chrome()\n",
    "                browser.get(url)\n",
    "                if browser.find_element_by_xpath('//*[@id=\"component_14\"]/div[3]/div/div[1]/div[1]/div[4]/ul/div'):\n",
    "                    browser.find_element_by_xpath('//*[@id=\"component_14\"]/div[3]/div/div[1]/div[1]/div[4]/ul/div').click()\n",
    "                elif browser.find_element_by_xpath('//*[@id=\"component_10\"]/div[3]/div/div[1]/div[1]/div[4]/ul/div'):\n",
    "                    browser.find_element_by_xpath('//*[@id=\"component_10\"]/div[3]/div/div[1]/div[1]/div[4]/ul/div').click()\n",
    "                elif browser.find_element_by_xpath('//*[@id=\"component_11\"]/div[3]/div/div[1]/div[1]/div[4]/ul/div'):\n",
    "                    browser.find_element_by_xpath('//*[@id=\"component_11\"]/div[3]/div/div[1]/div[1]/div[4]/ul/div').click()\n",
    "                elif browser.find_element_by_xpath('//*[@id=\"component_12\"]/div[3]/div/div[1]/div[1]/div[4]/ul/div'):\n",
    "                    browser.find_element_by_xpath('//*[@id=\"component_12\"]/div[3]/div/div[1]/div[1]/div[4]/ul/div').click()\n",
    "                elif browser.find_element_by_xpath('//*[@id=\"component_13\"]/div[3]/div/div[1]/div[1]/div[4]/ul/div'):\n",
    "                    browser.find_element_by_xpath('//*[@id=\"component_13\"]/div[3]/div/div[1]/div[1]/div[4]/ul/div').click()\n",
    "\n",
    "                source=browser.page_source\n",
    "                soup2=BeautifulSoup(source, 'html.parser')\n",
    "                for item in soup2.select('._32oTjHgM ._1W5CRnVt ._2yzvbm49 .location-review-review-list-parts-ReviewFilter__filter_table--1H9KD .location-review-review-list-parts-ReviewFilter__filter_row--p0z3u .location-review-review-list-parts-ReviewFilter__row_label--1njtd'):\n",
    "                    review_content_.append(item.text)\n",
    "                review.append(review_content_)\n",
    "                review_content.append(review)\n",
    "                browser.close()\n",
    "            else:\n",
    "                for item in soup.select('.location-review-review-list-parts-ReviewFilters__filters_wrap--y1t86 .is-3-tablet .location-review-review-list-parts-ReviewFilter__filter_table--1H9KD .location-review-review-list-parts-ReviewFilter__filter_row--p0z3u .location-review-review-list-parts-LanguageFilter__row_label--3OR-8'):\n",
    "                    review_content_.append(item.text)\n",
    "                review.append(review_content_)\n",
    "                review_content.append(review)\n",
    "        except Exception as w:\n",
    "            print(index,url,w)\n",
    "            review_content_='NaN'\n",
    "            review.append(review_content_)\n",
    "            review_content.append(review)\n",
    "            \n",
    "    except Exception as e:\n",
    "            print(index,url,e)\n",
    "            continue"
   ]
  },
  {
   "cell_type": "code",
   "execution_count": 14,
   "metadata": {},
   "outputs": [],
   "source": [
    "df=pd.DataFrame(review_content,columns=['attr-name','attr-link','score','review-num','review-content'])"
   ]
  },
  {
   "cell_type": "code",
   "execution_count": 15,
   "metadata": {},
   "outputs": [],
   "source": [
    "df.to_excel('beijing_review.xls')"
   ]
  }
 ],
 "metadata": {
  "kernelspec": {
   "display_name": "Python 3",
   "language": "python",
   "name": "python3"
  },
  "language_info": {
   "codemirror_mode": {
    "name": "ipython",
    "version": 3
   },
   "file_extension": ".py",
   "mimetype": "text/x-python",
   "name": "python",
   "nbconvert_exporter": "python",
   "pygments_lexer": "ipython3",
   "version": "3.7.0"
  }
 },
 "nbformat": 4,
 "nbformat_minor": 2
}
