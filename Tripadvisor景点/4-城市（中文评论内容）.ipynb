{
 "cells": [
  {
   "cell_type": "code",
   "execution_count": 1,
   "metadata": {},
   "outputs": [],
   "source": [
    "import requests\n",
    "from bs4 import BeautifulSoup\n",
    "import time\n",
    "import random\n",
    "import pandas as pd"
   ]
  },
  {
   "cell_type": "code",
   "execution_count": 2,
   "metadata": {},
   "outputs": [],
   "source": [
    "import sys\n",
    "import os"
   ]
  },
  {
   "cell_type": "code",
   "execution_count": 3,
   "metadata": {},
   "outputs": [],
   "source": [
    "from selenium import webdriver"
   ]
  },
  {
   "cell_type": "code",
   "execution_count": 4,
   "metadata": {},
   "outputs": [],
   "source": [
    "from collections import defaultdict"
   ]
  },
  {
   "cell_type": "code",
   "execution_count": 5,
   "metadata": {},
   "outputs": [],
   "source": [
    "def flushprint(www):\n",
    "    sys.stdout.write('\\r')\n",
    "    sys.stdout.write('%s' %www)\n",
    "    sys.stdout.flush()"
   ]
  },
  {
   "cell_type": "code",
   "execution_count": 6,
   "metadata": {},
   "outputs": [],
   "source": [
    "attr_score=pd.read_excel('太原_score.xls')"
   ]
  },
  {
   "cell_type": "code",
   "execution_count": 7,
   "metadata": {},
   "outputs": [
    {
     "data": {
      "text/html": [
       "<div>\n",
       "<style scoped>\n",
       "    .dataframe tbody tr th:only-of-type {\n",
       "        vertical-align: middle;\n",
       "    }\n",
       "\n",
       "    .dataframe tbody tr th {\n",
       "        vertical-align: top;\n",
       "    }\n",
       "\n",
       "    .dataframe thead th {\n",
       "        text-align: right;\n",
       "    }\n",
       "</style>\n",
       "<table border=\"1\" class=\"dataframe\">\n",
       "  <thead>\n",
       "    <tr style=\"text-align: right;\">\n",
       "      <th></th>\n",
       "      <th>attr-name</th>\n",
       "      <th>attr-link</th>\n",
       "      <th>score</th>\n",
       "      <th>review-num</th>\n",
       "    </tr>\n",
       "  </thead>\n",
       "  <tbody>\n",
       "    <tr>\n",
       "      <th>0</th>\n",
       "      <td>\\n晋祠\\n</td>\n",
       "      <td>/Attraction_Review-g317093-d501624-Reviews-Jin...</td>\n",
       "      <td>45</td>\n",
       "      <td>156</td>\n",
       "    </tr>\n",
       "    <tr>\n",
       "      <th>1</th>\n",
       "      <td>\\n蒙山大佛\\n</td>\n",
       "      <td>/Attraction_Review-g317093-d1814401-Reviews-Me...</td>\n",
       "      <td>45</td>\n",
       "      <td>58</td>\n",
       "    </tr>\n",
       "    <tr>\n",
       "      <th>2</th>\n",
       "      <td>\\n双塔寺\\n</td>\n",
       "      <td>/Attraction_Review-g317093-d507667-Reviews-Twi...</td>\n",
       "      <td>40</td>\n",
       "      <td>35</td>\n",
       "    </tr>\n",
       "    <tr>\n",
       "      <th>3</th>\n",
       "      <td>\\n柳巷南路\\n</td>\n",
       "      <td>/Attraction_Review-g317093-d1814501-Reviews-Li...</td>\n",
       "      <td>40</td>\n",
       "      <td>21</td>\n",
       "    </tr>\n",
       "    <tr>\n",
       "      <th>4</th>\n",
       "      <td>\\n太原食品街\\n</td>\n",
       "      <td>/Attraction_Review-g317093-d5321037-Reviews-Sh...</td>\n",
       "      <td>40</td>\n",
       "      <td>13</td>\n",
       "    </tr>\n",
       "  </tbody>\n",
       "</table>\n",
       "</div>"
      ],
      "text/plain": [
       "   attr-name                                          attr-link  score  \\\n",
       "0     \\n晋祠\\n  /Attraction_Review-g317093-d501624-Reviews-Jin...     45   \n",
       "1   \\n蒙山大佛\\n  /Attraction_Review-g317093-d1814401-Reviews-Me...     45   \n",
       "2    \\n双塔寺\\n  /Attraction_Review-g317093-d507667-Reviews-Twi...     40   \n",
       "3   \\n柳巷南路\\n  /Attraction_Review-g317093-d1814501-Reviews-Li...     40   \n",
       "4  \\n太原食品街\\n  /Attraction_Review-g317093-d5321037-Reviews-Sh...     40   \n",
       "\n",
       "  review-num  \n",
       "0        156  \n",
       "1         58  \n",
       "2         35  \n",
       "3         21  \n",
       "4         13  "
      ]
     },
     "execution_count": 7,
     "metadata": {},
     "output_type": "execute_result"
    }
   ],
   "source": [
    "attr_score.head()"
   ]
  },
  {
   "cell_type": "code",
   "execution_count": 8,
   "metadata": {},
   "outputs": [
    {
     "data": {
      "text/plain": [
       "69"
      ]
     },
     "execution_count": 8,
     "metadata": {},
     "output_type": "execute_result"
    }
   ],
   "source": [
    "len(attr_score)"
   ]
  },
  {
   "cell_type": "code",
   "execution_count": 9,
   "metadata": {},
   "outputs": [],
   "source": [
    "def page_offset(num):\n",
    "    offset_range=0\n",
    "    if int(num)%10==0:\n",
    "        offset_range=int(num)\n",
    "    else:\n",
    "        offset_range=(int(num)//10+1)*10\n",
    "    return offset_range"
   ]
  },
  {
   "cell_type": "code",
   "execution_count": 32,
   "metadata": {},
   "outputs": [],
   "source": [
    "review_content=[]"
   ]
  },
  {
   "cell_type": "code",
   "execution_count": 33,
   "metadata": {},
   "outputs": [
    {
     "name": "stdout",
     "output_type": "stream",
     "text": [
      "68:https://www.tripadvisor.cn/Attraction_Review-g317093-d1814506-Reviews-Shanxi_Sports_Center-Taiyuan_Shanxi.html:sleeping0.5023603525788077seconds.18858462756785466seconds"
     ]
    }
   ],
   "source": [
    "for index in range(0,69):\n",
    "    url='https://www.tripadvisor.cn'+attr_score.iloc[index]['attr-link']\n",
    "    attr_name=attr_score.iloc[index]['attr-name']\n",
    "    attr_link=attr_score.iloc[index]['attr-link']\n",
    "    score=attr_score.iloc[index]['score']\n",
    "    review_num=attr_score.iloc[index]['review-num']\n",
    "    review=[attr_name,attr_link,score,review_num]\n",
    "    try:\n",
    "        tt = random.random()\n",
    "        flushprint(str(index)+':'+str(url)+':sleeping'+str(tt)+'seconds')\n",
    "        time.sleep(tt)\n",
    "        \n",
    "        html=requests.get(url)\n",
    "        html.encoding='utf-8'\n",
    "        content=html.content\n",
    "        soup=BeautifulSoup(content,'html.parser')\n",
    "        try:\n",
    "            review_=[]#装一个景点所有评论数据\n",
    "            if soup.select('.ui_pagination '):\n",
    "                page_offset=int(soup.select('.pageNumbers a')[-1].text)*10\n",
    "                for page in range(0,page_offset,10):\n",
    "                    if page==0:\n",
    "                        if soup.select('.content_column .ppr_priv_location_reviews_container_resp .prw_reviews_review_resp'):\n",
    "                            for i in soup.select('.content_column .ppr_priv_location_reviews_container_resp .prw_reviews_review_resp'):\n",
    "                                reviews=''\n",
    "                                reviews=i.select('.reviewSelector .quote a span')[0].text + i.select('.reviewSelector .prw_reviews_text_summary_hsx div p')[0].text\n",
    "                                review_.append(reviews)\n",
    "                        elif soup.select('.react-container .location-review-card-Card__ui_card--2Mri0'):\n",
    "                            for item in soup.select('.react-container .location-review-card-Card__ui_card--2Mri0 .location-review-review-list-parts-SingleReview__mainCol--1hApa'):\n",
    "                                reviews=''\n",
    "                                reviews=item.select('.location-review-review-list-parts-ReviewTitle__reviewTitle--2GO9Z a span span')[0].text + item.select('.location-review-review-list-parts-ExpandableReview__containerStyles--1G0AE ._2f_ruteS .cPQsENeY q span')[0].text\n",
    "                                review_.append(reviews)\n",
    "#                         review.append(review_)\n",
    "#                         review_content.append(review)\n",
    "                    else:\n",
    "                        url2='https://www.tripadvisor.cn'+attr_score.iloc[index]['attr-link'].split('Reviews-')[0]+'Reviews-or'+str(page)+'-'+attr_score.iloc[index]['attr-link'].split('Reviews-')[1]\n",
    "                        tt = random.random()\n",
    "                        flushprint(str(index)+':'+str(url2)+':sleeping'+str(tt)+'seconds')\n",
    "                        time.sleep(tt)\n",
    "\n",
    "                        html2=requests.get(url2)\n",
    "                        html2.encoding='utf-8'\n",
    "                        content2=html2.content\n",
    "                        soup2=BeautifulSoup(content2,'html.parser')\n",
    "                        if soup2.select('.content_column .ppr_priv_location_reviews_container_resp .prw_reviews_review_resp'):\n",
    "                            for i in soup2.select('.content_column .ppr_priv_location_reviews_container_resp .prw_reviews_review_resp'):\n",
    "                                reviews=''\n",
    "                                reviews=i.select('.reviewSelector .quote a span')[0].text + i.select('.reviewSelector .prw_reviews_text_summary_hsx div p')[0].text\n",
    "                                review_.append(reviews)\n",
    "                        elif soup2.select('.react-container .location-review-card-Card__ui_card--2Mri0'):\n",
    "                            for item in soup2.select('.react-container .location-review-card-Card__ui_card--2Mri0 .location-review-review-list-parts-SingleReview__mainCol--1hApa'):\n",
    "                                reviews=''\n",
    "                                reviews=item.select('.location-review-review-list-parts-ReviewTitle__reviewTitle--2GO9Z a span span')[0].text + item.select('.location-review-review-list-parts-ExpandableReview__containerStyles--1G0AE ._2f_ruteS .cPQsENeY q span')[0].text\n",
    "                                review_.append(reviews)\n",
    "#                 review.append(review_)\n",
    "#                 review_content.append(review)\n",
    "            else:\n",
    "                if soup.select('.content_column .ppr_priv_location_reviews_container_resp .prw_reviews_review_resp'):\n",
    "                    for i in soup.select('.content_column .ppr_priv_location_reviews_container_resp .prw_reviews_review_resp'):\n",
    "                        reviews=''\n",
    "                        reviews=i.select('.reviewSelector .quote a span')[0].text + i.select('.reviewSelector .prw_reviews_text_summary_hsx div p')[0].text\n",
    "                        review_.append(reviews)\n",
    "                elif soup.select('.react-container .location-review-card-Card__ui_card--2Mri0'):\n",
    "                    for item in soup.select('.react-container .location-review-card-Card__ui_card--2Mri0 .location-review-review-list-parts-SingleReview__mainCol--1hApa'):\n",
    "                        reviews=''\n",
    "                        reviews=item.select('.location-review-review-list-parts-ReviewTitle__reviewTitle--2GO9Z a span span')[0].text + item.select('.location-review-review-list-parts-ExpandableReview__containerStyles--1G0AE ._2f_ruteS .cPQsENeY q span')[0].text\n",
    "                        review_.append(reviews)\n",
    "            review.append(review_)\n",
    "            review_content.append(review)\n",
    "        except Exception as w:\n",
    "            print(index,url,w)\n",
    "            review_='NaN'\n",
    "            review.append(review_)\n",
    "            review_content.append(review)  \n",
    "    except Exception as e:\n",
    "        print(index,url,e)\n",
    "        continue"
   ]
  },
  {
   "cell_type": "code",
   "execution_count": 34,
   "metadata": {},
   "outputs": [
    {
     "data": {
      "text/plain": [
       "['\\n圣母天主教堂\\n',\n",
       " '/Attraction_Review-g317093-d1814540-Reviews-Notre_Dame_Cathedral-Taiyuan_Shanxi.html',\n",
       " 40,\n",
       " 4,\n",
       " ['愿天主保佑每位做礼拜的教徒们！山西是天主教大区，历史上大小教堂200余座，近年来修复新建教堂如雨后春笋萌生三晋大地，在旅游者视线内形成一道独特的风景线。 大家最耳熟能详的莫过于太原天主教堂了吧！太原地区最大的教堂，亦称太原总堂。这座始建于清末的太原天主教堂位于解放路，是一座颇具古代古罗马风格的高大建筑，通体呈现出铁红色，同时间以白线装饰。看起来非常典雅而庄重，而且内部装饰有精致的彩色玻璃，美丽而优雅，是新人们举办教堂婚礼的最佳选择。',\n",
       "  '听到里面的颂歌这是太原最早的也是最大的天主教堂，恰好路过那边，就听见里面在歌颂，觉得好奇就进去看了看，以前只在电视上见过，这回看见真的了！教堂里面特别宏伟，还有不少年轻人选择在这里举行婚礼，貌似很浪漫,而且这里每天都有人在这',\n",
       "  '心灵的净化是个可以做礼拜的教堂，由于本人也挺信基督教，所以就不出意外的来到这个地方接受心灵的净化。里面的装饰很西方化，跟我家附近的很不一样，听当地人说还有过人在那举行婚礼呢，肯定很浪漫，祝福那些新人。',\n",
       "  '静谧这座教堂就在万达广场的对面，非常的醒目。我进去看看，教堂没有很多人拜访，如果不是一场参加人数不多的婚礼正在进行，那么参观的人只有我一个。教堂外观红色，内部色彩淡雅，天顶蓝色为主。内部很威严，很静谧。']]"
      ]
     },
     "execution_count": 34,
     "metadata": {},
     "output_type": "execute_result"
    }
   ],
   "source": [
    "review_content[20]"
   ]
  },
  {
   "cell_type": "code",
   "execution_count": 35,
   "metadata": {},
   "outputs": [],
   "source": [
    "df=pd.DataFrame(review_content)"
   ]
  },
  {
   "cell_type": "code",
   "execution_count": 36,
   "metadata": {},
   "outputs": [],
   "source": [
    "df.to_excel('taiyuan_review.xls')"
   ]
  }
 ],
 "metadata": {
  "kernelspec": {
   "display_name": "Python 3",
   "language": "python",
   "name": "python3"
  },
  "language_info": {
   "codemirror_mode": {
    "name": "ipython",
    "version": 3
   },
   "file_extension": ".py",
   "mimetype": "text/x-python",
   "name": "python",
   "nbconvert_exporter": "python",
   "pygments_lexer": "ipython3",
   "version": "3.7.0"
  }
 },
 "nbformat": 4,
 "nbformat_minor": 2
}
